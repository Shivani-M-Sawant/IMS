{
 "cells": [
  {
   "cell_type": "markdown",
   "metadata": {},
   "source": [
    "# Inventory Management System "
   ]
  },
  {
   "cell_type": "code",
   "execution_count": 1,
   "metadata": {},
   "outputs": [],
   "source": [
    "import json"
   ]
  },
  {
   "cell_type": "code",
   "execution_count": 20,
   "metadata": {},
   "outputs": [],
   "source": [
    "def rd_customer():\n",
    "    fd=open('record.json','r')\n",
    "    rd=fd.read()\n",
    "    record=json.loads(rd)\n",
    "    fd.close()"
   ]
  },
  {
   "cell_type": "code",
   "execution_count": 23,
   "metadata": {},
   "outputs": [],
   "source": [
    "def rd_product():\n",
    "    fd=open('product.json','r')\n",
    "    pd=fd.read()\n",
    "    product=json.loads(pd)\n",
    "    fd.close()"
   ]
  },
  {
   "cell_type": "code",
   "execution_count": 4,
   "metadata": {},
   "outputs": [],
   "source": [
    "def view_customer():\n",
    "    rd_customer()\n",
    "    print(record)"
   ]
  },
  {
   "cell_type": "code",
   "execution_count": 6,
   "metadata": {},
   "outputs": [],
   "source": [
    "def view_product():\n",
    "    rd_product()\n",
    "    print(product)"
   ]
  },
  {
   "cell_type": "code",
   "execution_count": 7,
   "metadata": {},
   "outputs": [],
   "source": [
    "def del_customer():\n",
    "    rd_customer()\n",
    "    id_c = str(input(\"Enter Id to be deleted : \"))\n",
    "    del record[id_c]\n",
    "    jr=json.dumps(record)\n",
    "    fd=open(\"record.json\",'w')\n",
    "    fd.write(jr)\n",
    "    fd.close()\n",
    "    print(\"{} Deleted Sucessfully\".format(id_c))"
   ]
  },
  {
   "cell_type": "code",
   "execution_count": 8,
   "metadata": {},
   "outputs": [],
   "source": [
    "def del_product():\n",
    "    rd_product()\n",
    "    id_p = input(\"Enter Id to be deleted : \")\n",
    "    del product[id_p]\n",
    "    jr=json.dumps(product)\n",
    "    fd=open(\"product.json\",'w')\n",
    "    fd.write(jr)\n",
    "    fd.close()\n",
    "    print(\"{} Deleted Sucessfully\".format(id_p))"
   ]
  },
  {
   "cell_type": "code",
   "execution_count": 9,
   "metadata": {},
   "outputs": [],
   "source": [
    "def add_record():\n",
    "    rd_customer()\n",
    "    d=input(\"do you want to add Customer: \")\n",
    "    if (d=='yes'):\n",
    "        key=str(int(list(record.keys())[-1])+1)\n",
    "        n=input(\"Enter name \")\n",
    "        p=int(input(\"Enter pno \"))\n",
    "        a=input(\"Enter address \")\n",
    "\n",
    "        record[key]={\"name\":n,\"pno\":p,\"address\":a}\n",
    "        print(\"Customer Added Succesfully\")\n",
    "    else:\n",
    "        print(\"invalid input\")\n",
    "\n",
    "    jr=json.dumps(record)\n",
    "\n",
    "    fd=open(\"record.json\",'w')\n",
    "\n",
    "    fd.write(jr)\n",
    "    #print(jr)\n",
    "\n",
    "    fd.close()"
   ]
  },
  {
   "cell_type": "code",
   "execution_count": 10,
   "metadata": {},
   "outputs": [],
   "source": [
    "def add_Product():\n",
    "    rd_product()\n",
    "    d=input(\"do you want to add Product: \")\n",
    "    if (d=='yes'):\n",
    "        key=str(int(list(product.keys())[-1])+1)\n",
    "        n=input(\"Enter name \")\n",
    "        q=int(input(\"Enter quantity \"))\n",
    "        p=int(input(\"Enter Price \"))\n",
    "\n",
    "        product[key]={\"name\":n,\"quantity\":q,\"price\":p}\n",
    "        print(\"Product added Successfully\")\n",
    "    else:\n",
    "        print(\"....\")\n",
    "\n",
    "    jr=json.dumps(product)\n",
    "\n",
    "    fd=open(\"product.json\",'w')\n",
    "\n",
    "    fd.write(jr)\n",
    "    \n",
    "    fd.close()\n",
    "    "
   ]
  },
  {
   "cell_type": "code",
   "execution_count": 11,
   "metadata": {},
   "outputs": [],
   "source": [
    "def update_product(x,y,m):\n",
    "    x=int(x)\n",
    "    y=int(y)\n",
    "    fd=open(\"product.json\",\"w\")\n",
    "    z=y-x\n",
    "    product[m][\"quantity\"]=z\n",
    "    jr=json.dumps(product)\n",
    "    fd.write(jr)\n",
    "    fd=open(\"product.json\",'r')\n",
    "    txt=fd.read()\n",
    "    fd.close()\n",
    "    "
   ]
  },
  {
   "cell_type": "code",
   "execution_count": 12,
   "metadata": {},
   "outputs": [],
   "source": [
    "def purchase():\n",
    "    rd_customer()\n",
    "    rd_product()\n",
    "    reg = input(\"Enter User's ID : \")\n",
    "    no_of_product=input(\"Enter number of items to be purchased \")\n",
    "    i=int(no_of_product)\n",
    "    flag=0\n",
    "    t_a=[]\n",
    "    t=0\n",
    "    total=0\n",
    "    while i > 0:\n",
    "        prod = input(\"Enter Product ID : \")\n",
    "        quant = input(\"Enter Product Qt  :\")\n",
    "        p_keys=list(product.keys())\n",
    "        for j in range(len(p_keys)):\n",
    "            if (prod==p_keys[j]):\n",
    "                if(int(quant)<=int(product[prod][\"quantity\"])):\n",
    "                    p_key=product[p_keys[j]]\n",
    "                    p=p_key.values()\n",
    "                    p=list(p)\n",
    "                    p_name=p[0]\n",
    "                    p_quant=p[1]\n",
    "                    p_price=p[2]\n",
    "                    print(record[reg][\"name\"]+\" has purchased \" + quant +\" \"+ p_name )\n",
    "                    ta=p[2]*int(quant)\n",
    "                    ta=str(ta)\n",
    "                    t_a.append(ta)\n",
    "                    flag=flag+1\n",
    "                    update_product(quant,product[prod][\"quantity\"],prod)\n",
    "\n",
    "\n",
    "                else:\n",
    "                    print(\"product out of stock\")\n",
    "                    flag=flag+0\n",
    "        i=i-1\n",
    "\n",
    "    for t in range(0,flag):\n",
    "        t_a[t]=int(t_a[t])\n",
    "        total=total+t_a[t]\n",
    "    print(\"Total amount of cart is : {}\".format(total))"
   ]
  },
  {
   "cell_type": "code",
   "execution_count": 24,
   "metadata": {},
   "outputs": [
    {
     "name": "stdout",
     "output_type": "stream",
     "text": [
      "welcome to Inventory Mangement System\n",
      "AP-Add item in Products\n",
      "AC-Add Customer\n",
      "P-Purchase Item\n",
      "vC-View Customer\n",
      "VP-View Product\n",
      "DC-Delete Customer\n",
      "DP-Delete Product\n",
      "Q-Quit\n",
      "What would you like to do? vc\n",
      "{'1001': {'name': 'Shivani Sawant', 'pno': 12345, 'address': 'Mumbai'}, '1002': {'name': 'Raj Rane', 'pno': 293729, 'address': 'Pune'}, '1007': {'name': 'Sherlock Holmes', 'pno': 465637, 'address': 'Baker Street'}, '1008': {'name': 'Shefali Rai', 'pno': 1929, 'address': 'Mumbai'}, '1009': {'name': 'Sanjiv', 'pno': 12463, 'address': 'Mumbai'}, '1010': {'name': 'Akshay Verma', 'pno': 192272, 'address': 'Pune'}, '1012': {'name': 'Yuvan Rane', 'pno': 23409, 'address': 'Mumbai'}}\n",
      "What would you like to do? vp\n",
      "{'20002': {'name': 'Sanitizer', 'quantity': 120, 'price': 20}, '20003': {'name': 'Mask', 'quantity': 110, 'price': 20}, '20004': {'name': 'Gloves', 'quantity': 102, 'price': 20}, '20005': {'name': 'Drink', 'quantity': 203, 'price': 10}, '20006': {'name': 'Water', 'quantity': 1550, 'price': 16}, '20007': {'name': 'Potata', 'quantity': 201, 'price': 20}}\n",
      "What would you like to do? ap\n",
      "do you want to add Product: yes\n",
      "Enter name Milk\n",
      "Enter quantity 200\n",
      "Enter Price 30\n",
      "Product added Successfully\n",
      "What would you like to do? vp\n",
      "{'20002': {'name': 'Sanitizer', 'quantity': 120, 'price': 20}, '20003': {'name': 'Mask', 'quantity': 110, 'price': 20}, '20004': {'name': 'Gloves', 'quantity': 102, 'price': 20}, '20005': {'name': 'Drink', 'quantity': 203, 'price': 10}, '20006': {'name': 'Water', 'quantity': 1550, 'price': 16}, '20007': {'name': 'Potata', 'quantity': 201, 'price': 20}, '20008': {'name': 'Milk', 'quantity': 200, 'price': 30}}\n",
      "What would you like to do? ac\n",
      "do you want to add Customer: yes\n",
      "Enter name Dhwani Gole\n",
      "Enter pno 1092\n",
      "Enter address Mumbai\n",
      "Customer Added Succesfully\n",
      "What would you like to do? vc\n",
      "{'1001': {'name': 'Shivani Sawant', 'pno': 12345, 'address': 'Mumbai'}, '1002': {'name': 'Raj Rane', 'pno': 293729, 'address': 'Pune'}, '1007': {'name': 'Sherlock Holmes', 'pno': 465637, 'address': 'Baker Street'}, '1008': {'name': 'Shefali Rai', 'pno': 1929, 'address': 'Mumbai'}, '1009': {'name': 'Sanjiv', 'pno': 12463, 'address': 'Mumbai'}, '1010': {'name': 'Akshay Verma', 'pno': 192272, 'address': 'Pune'}, '1012': {'name': 'Yuvan Rane', 'pno': 23409, 'address': 'Mumbai'}, '1013': {'name': 'Dhwani Gole', 'pno': 1092, 'address': 'Mumbai'}}\n",
      "What would you like to do? p\n",
      "Enter User's ID : 1013\n",
      "Enter number of items to be purchased 2\n",
      "Enter Product ID : 20007\n",
      "Enter Product Qt  :2\n",
      "Dhwani Gole has purchased 2 Potata\n",
      "Enter Product ID : 20008\n",
      "Enter Product Qt  :2\n",
      "Dhwani Gole has purchased 2 Milk\n",
      "Total amount of cart is : 100\n",
      "What would you like to do? dc\n",
      "Enter Id to be deleted : 1012\n",
      "1012 Deleted Sucessfully\n",
      "What would you like to do? vc\n",
      "{'1001': {'name': 'Shivani Sawant', 'pno': 12345, 'address': 'Mumbai'}, '1002': {'name': 'Raj Rane', 'pno': 293729, 'address': 'Pune'}, '1007': {'name': 'Sherlock Holmes', 'pno': 465637, 'address': 'Baker Street'}, '1008': {'name': 'Shefali Rai', 'pno': 1929, 'address': 'Mumbai'}, '1009': {'name': 'Sanjiv', 'pno': 12463, 'address': 'Mumbai'}, '1010': {'name': 'Akshay Verma', 'pno': 192272, 'address': 'Pune'}, '1013': {'name': 'Dhwani Gole', 'pno': 1092, 'address': 'Mumbai'}}\n",
      "What would you like to do? dp\n",
      "Enter Id to be deleted : 20006\n",
      "20006 Deleted Sucessfully\n",
      "What would you like to do? vp\n",
      "{'20002': {'name': 'Sanitizer', 'quantity': 120, 'price': 20}, '20003': {'name': 'Mask', 'quantity': 110, 'price': 20}, '20004': {'name': 'Gloves', 'quantity': 102, 'price': 20}, '20005': {'name': 'Drink', 'quantity': 203, 'price': 10}, '20007': {'name': 'Potata', 'quantity': 199, 'price': 20}, '20008': {'name': 'Milk', 'quantity': 198, 'price': 30}}\n",
      "What would you like to do? q\n",
      "Thank you...Visit Again..!!\n"
     ]
    }
   ],
   "source": [
    "print(\"welcome to Inventory Mangement System\")\n",
    "print(\"AP-Add item in Products\")\n",
    "print(\"AC-Add Customer\")\n",
    "print(\"P-Purchase Item\")\n",
    "print(\"vC-View Customer\")\n",
    "print(\"VP-View Product\")\n",
    "print(\"DC-Delete Customer\")\n",
    "print(\"DP-Delete Product\")\n",
    "print(\"Q-Quit\")\n",
    "rd_customer()\n",
    "\n",
    "c='y'\n",
    "while(c!= \"q\" or c!= \"Q\"):\n",
    "    c= input(\"What would you like to do? \")\n",
    "    \n",
    "    if(c==\"q\" or c==\"Q\"):\n",
    "        print(\"Thank you...Visit Again..!!\")\n",
    "        break\n",
    "        \n",
    "    elif(c==\"AP\" or c==\"ap\"):\n",
    "        add_Product()\n",
    "        \n",
    "    \n",
    "    elif(c==\"AC\" or c==\"ac\"):\n",
    "        add_record()\n",
    "        \n",
    "        \n",
    "    elif(c==\"P\" or c==\"p\"):\n",
    "        purchase()\n",
    "        \n",
    "    elif(c==\"VC\" or c==\"vc\"):\n",
    "        view_customer()\n",
    "    \n",
    "    elif(c==\"VP\" or c==\"vp\"):\n",
    "        view_product()\n",
    "        \n",
    "    elif(c==\"DC\" or c==\"dc\"):\n",
    "        del_customer()\n",
    "    \n",
    "    elif(c==\"DP\" or c==\"dp\"):\n",
    "        del_product()\n",
    "    \n",
    "    else:\n",
    "        print(\"Ivalid Input\")\n",
    "        \n",
    "    "
   ]
  },
  {
   "cell_type": "code",
   "execution_count": 18,
   "metadata": {},
   "outputs": [],
   "source": [
    "fd=open('record.json','r')\n",
    "rd=fd.read()\n",
    "record=json.loads(rd)\n",
    "fd.close()"
   ]
  },
  {
   "cell_type": "code",
   "execution_count": 21,
   "metadata": {},
   "outputs": [],
   "source": [
    "fd=open('product.json','r')\n",
    "pd=fd.read()\n",
    "product=json.loads(pd)\n",
    "fd.close()"
   ]
  },
  {
   "cell_type": "code",
   "execution_count": null,
   "metadata": {},
   "outputs": [],
   "source": []
  },
  {
   "cell_type": "code",
   "execution_count": null,
   "metadata": {},
   "outputs": [],
   "source": []
  },
  {
   "cell_type": "code",
   "execution_count": null,
   "metadata": {},
   "outputs": [],
   "source": []
  },
  {
   "cell_type": "code",
   "execution_count": null,
   "metadata": {},
   "outputs": [],
   "source": []
  },
  {
   "cell_type": "code",
   "execution_count": null,
   "metadata": {},
   "outputs": [],
   "source": []
  },
  {
   "cell_type": "code",
   "execution_count": null,
   "metadata": {},
   "outputs": [],
   "source": []
  },
  {
   "cell_type": "code",
   "execution_count": null,
   "metadata": {},
   "outputs": [],
   "source": []
  },
  {
   "cell_type": "code",
   "execution_count": null,
   "metadata": {},
   "outputs": [],
   "source": []
  },
  {
   "cell_type": "code",
   "execution_count": null,
   "metadata": {},
   "outputs": [],
   "source": []
  },
  {
   "cell_type": "code",
   "execution_count": null,
   "metadata": {},
   "outputs": [],
   "source": []
  },
  {
   "cell_type": "code",
   "execution_count": null,
   "metadata": {},
   "outputs": [],
   "source": []
  },
  {
   "cell_type": "code",
   "execution_count": null,
   "metadata": {},
   "outputs": [],
   "source": []
  },
  {
   "cell_type": "code",
   "execution_count": null,
   "metadata": {},
   "outputs": [],
   "source": []
  },
  {
   "cell_type": "code",
   "execution_count": null,
   "metadata": {},
   "outputs": [],
   "source": []
  }
 ],
 "metadata": {
  "kernelspec": {
   "display_name": "Python 3",
   "language": "python",
   "name": "python3"
  },
  "language_info": {
   "codemirror_mode": {
    "name": "ipython",
    "version": 3
   },
   "file_extension": ".py",
   "mimetype": "text/x-python",
   "name": "python",
   "nbconvert_exporter": "python",
   "pygments_lexer": "ipython3",
   "version": "3.8.5"
  }
 },
 "nbformat": 4,
 "nbformat_minor": 4
}

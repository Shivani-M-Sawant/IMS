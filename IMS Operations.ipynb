{
 "cells": [
  {
   "cell_type": "markdown",
   "metadata": {},
   "source": [
    "# Inventory Management System "
   ]
  },
  {
   "cell_type": "code",
   "execution_count": 16,
   "metadata": {},
   "outputs": [],
   "source": [
    "record = { 1001 : {\"name\" : \"Shivani Sawant\", \"pno\" : 12345, \"address\" : \"Mumbai\"}, \n",
    "           1002 : {\"name\" : \"Raj Rane\", \"pno\" : 293729, \"address\" : \"Pune\"},\n",
    "           1003 : {\"name\" : \"Ayushi Joshi\", \"pno\" : 625192, \"address\" : \"Goa\"}}"
   ]
  },
  {
   "cell_type": "code",
   "execution_count": 17,
   "metadata": {},
   "outputs": [],
   "source": [
    "product = { 20001 : {\"name\" : \"Crocin\", \"quantity\" : 100, \"price\" : 10},\n",
    "          20002 : {\"name\" : \"Coke\", \"quantity\" : 50, \"price\" : 20},\n",
    "          20003 : {\"name\" : \"Moisturizer\", \"quantity\" : 50, \"price\" : 70 }}"
   ]
  },
  {
   "cell_type": "code",
   "execution_count": 18,
   "metadata": {},
   "outputs": [],
   "source": [
    "import json\n"
   ]
  },
  {
   "cell_type": "code",
   "execution_count": 30,
   "metadata": {},
   "outputs": [],
   "source": [
    "def add_record():\n",
    "    d=input(\"do you want to add Customer: \")\n",
    "    if (d=='yes'):\n",
    "        key=int(list(record.keys())[-1])+1\n",
    "        n=input(\"Enter name \")\n",
    "        p=input(\"Enter pno \")\n",
    "        a=input(\"Enter address \")\n",
    "\n",
    "        record[key]={\"name\":n,\"pno\":p,\"address\":a}\n",
    "        #print(record)\n",
    "    else:\n",
    "        print(\"invalid input\")\n",
    "\n",
    "    jr=json.dumps(record)\n",
    "\n",
    "    fd=open(\"record.json\",'w')\n",
    "\n",
    "    fd.write(jr)\n",
    "    #print(jr)\n",
    "\n",
    "    fd.close()"
   ]
  },
  {
   "cell_type": "code",
   "execution_count": 20,
   "metadata": {},
   "outputs": [],
   "source": [
    "def add_Product():\n",
    "    d=input(\"do you want to add Product: \")\n",
    "    if (d=='yes'):\n",
    "        key=int(list(product.keys())[-1])+1\n",
    "        n=input(\"Enter name \")\n",
    "        q=input(\"Enter quantity \")\n",
    "        p=input(\"Enter Price \")\n",
    "\n",
    "        product[key]={\"name\":n,\"quantity\":q,\"price\":p}\n",
    "    else:\n",
    "        print(\"....\")\n",
    "\n",
    "    jr=json.dumps(product)\n",
    "\n",
    "    fd=open(\"product.json\",'w')\n",
    "\n",
    "    fd.write(jr)\n",
    "    \n",
    "    fd.close()"
   ]
  },
  {
   "cell_type": "code",
   "execution_count": 21,
   "metadata": {},
   "outputs": [],
   "source": [
    "def view_customer():\n",
    "    fd=open(\"record.json\",'r')\n",
    "    txt=fd.read()\n",
    "    print(txt)\n",
    "    fd.close()"
   ]
  },
  {
   "cell_type": "code",
   "execution_count": 22,
   "metadata": {},
   "outputs": [],
   "source": [
    "def view_product():\n",
    "    fd=open(\"product.json\",'r')\n",
    "    txt=fd.read()\n",
    "    print(txt)\n",
    "    fd.close()"
   ]
  },
  {
   "cell_type": "code",
   "execution_count": 23,
   "metadata": {},
   "outputs": [],
   "source": [
    "def update_product(x,y,w):\n",
    "   \n",
    "    x=int(x)\n",
    "    y=int(y)\n",
    "    w=int(w)\n",
    "    fd=open(\"product.json\",\"w\")\n",
    "    z=y-x\n",
    "    product[w][\"quantity\"]=z\n",
    "    jr=json.dumps(product)\n",
    "    fd.write(jr)\n",
    "    fd=open(\"product.json\",'r')\n",
    "    txt=fd.read()\n",
    "    fd.close()\n",
    "    "
   ]
  },
  {
   "cell_type": "code",
   "execution_count": 33,
   "metadata": {},
   "outputs": [],
   "source": [
    "def purchase():\n",
    "    reg = int(input(\"Enter User's ID : \"))\n",
    "    no_of_product=input(\"Enter number of items to be purchased \")\n",
    "    i=int(no_of_product)\n",
    "    flag=0\n",
    "    t_a=[]\n",
    "    t=0\n",
    "    total=0\n",
    "    while i > 0:\n",
    "        prod = int(input(\"Enter Product ID : \"))\n",
    "        quant = input(\"Enter Product Qt  :\")\n",
    "    \n",
    "        p_keys=list(product.keys())\n",
    "\n",
    "        for j in range(len(p_keys)):\n",
    "            if (prod==p_keys[j]):\n",
    "                if(int(quant)<=product[prod][\"quantity\"]):\n",
    "\n",
    "                    p_key=product[p_keys[j]]\n",
    "\n",
    "                    p=p_key.values()\n",
    "                    p=list(p)\n",
    "                    p_name=p[0]\n",
    "                    p_quant=p[1]\n",
    "                    p_price=p[2]\n",
    "\n",
    "                    print(record[reg][\"name\"]+\" has pruchased \" + quant +\" \"+ p_name )\n",
    "                    ta=p[2]*int(quant)\n",
    "                    ta=str(ta)\n",
    "                    t_a.append(ta)\n",
    "                    flag=flag+1\n",
    "                    update_product(quant,product[prod][\"quantity\"],prod)\n",
    "\n",
    "\n",
    "                else:\n",
    "                    print(\"product out of stock\")\n",
    "                    flag=flag+0\n",
    "        i=i-1\n",
    "\n",
    "    for t in range(0,flag):\n",
    "        t_a[t]=int(t_a[t])\n",
    "        total=total+t_a[t]\n",
    "    print(\"Total amount of cart is : {}\".format(total))\n",
    "\n",
    "\n"
   ]
  },
  {
   "cell_type": "code",
   "execution_count": 34,
   "metadata": {},
   "outputs": [
    {
     "name": "stdout",
     "output_type": "stream",
     "text": [
      "welcome to Inventory Mangement System\n",
      "AP-Add item in Products\n",
      "AC-Add Customer\n",
      "P-Purchase Item\n",
      "vC-View Customer\n",
      "VP-View Product\n",
      "Q-Quit\n",
      "What would you like to do? p\n",
      "Enter User's ID : 1004\n",
      "Enter number of items to be purchased 1\n",
      "Enter Product ID : 20001\n",
      "Enter Product Qt  :2\n",
      "Emiy has pruchased 2 Crocin\n",
      "Total amount of cart is : 20\n",
      "What would you like to do? vc\n",
      "{\"1001\": {\"name\": \"Shivani Sawant\", \"pno\": 12345, \"address\": \"Mumbai\"}, \"1002\": {\"name\": \"Raj Rane\", \"pno\": 293729, \"address\": \"Pune\"}, \"1003\": {\"name\": \"Ayushi Joshi\", \"pno\": 625192, \"address\": \"Goa\"}, \"1004\": {\"name\": \"Emiy\", \"pno\": \"8237\", \"address\": \"Gujrat\"}, \"1005\": {\"name\": \"Kajal\", \"pno\": \"2838\", \"address\": \"Pune\"}, \"1006\": {\"name\": \"Ross\", \"pno\": \"88201\", \"address\": \"Kashmir\"}}\n",
      "What would you like to do? vp\n",
      "{\"20001\": {\"name\": \"Crocin\", \"quantity\": 96, \"price\": 10}, \"20002\": {\"name\": \"Coke\", \"quantity\": 48, \"price\": 20}, \"20003\": {\"name\": \"Moisturizer\", \"quantity\": 48, \"price\": 70}}\n",
      "What would you like to do? q\n",
      "Thank you...Visit Again..!!\n"
     ]
    }
   ],
   "source": [
    "print(\"welcome to Inventory Mangement System\")\n",
    "print(\"AP-Add item in Products\")\n",
    "print(\"AC-Add Customer\")\n",
    "print(\"P-Purchase Item\")\n",
    "print(\"vC-View Customer\")\n",
    "print(\"VP-View Product\")\n",
    "print(\"Q-Quit\")\n",
    "c='y'\n",
    "while(c!= \"q\" or c!= \"Q\"):\n",
    "    c= input(\"What would you like to do? \")\n",
    "    \n",
    "    if(c==\"q\" or c==\"Q\"):\n",
    "        print(\"Thank you...Visit Again..!!\")\n",
    "        break\n",
    "        \n",
    "    elif(c==\"AP\" or c==\"ap\"):\n",
    "        add_Product()\n",
    "        print(\"Product added Successfully\")\n",
    "    \n",
    "    elif(c==\"AC\" or c==\"ac\"):\n",
    "        add_record()\n",
    "        print(\"Customer Added Succesfully\")\n",
    "        \n",
    "    elif(c==\"P\" or c==\"p\"):\n",
    "        purchase()\n",
    "        \n",
    "    elif(c==\"VC\" or c==\"vc\"):\n",
    "        view_customer()\n",
    "    \n",
    "    elif(c==\"VP\" or c==\"vp\"):\n",
    "        view_product()\n",
    "    \n",
    "    else:\n",
    "        print(\"Ivalid Input\")\n",
    "        \n",
    "    "
   ]
  },
  {
   "cell_type": "code",
   "execution_count": null,
   "metadata": {},
   "outputs": [],
   "source": []
  },
  {
   "cell_type": "code",
   "execution_count": null,
   "metadata": {},
   "outputs": [],
   "source": []
  }
 ],
 "metadata": {
  "kernelspec": {
   "display_name": "Python 3",
   "language": "python",
   "name": "python3"
  },
  "language_info": {
   "codemirror_mode": {
    "name": "ipython",
    "version": 3
   },
   "file_extension": ".py",
   "mimetype": "text/x-python",
   "name": "python",
   "nbconvert_exporter": "python",
   "pygments_lexer": "ipython3",
   "version": "3.8.5"
  }
 },
 "nbformat": 4,
 "nbformat_minor": 4
}
